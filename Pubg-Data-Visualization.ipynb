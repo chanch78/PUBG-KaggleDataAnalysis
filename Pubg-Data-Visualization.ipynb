{
 "cells": [
  {
   "cell_type": "code",
   "execution_count": 20,
   "metadata": {
    "collapsed": true
   },
   "outputs": [],
   "source": [
    "import numpy as np\n",
    "import matplotlib.pyplot as plt\n",
    "import pandas as pd\n",
    "import seaborn as sns\n",
    "from scipy.stats import mstats"
   ]
  },
  {
   "cell_type": "code",
   "execution_count": 21,
   "metadata": {
    "collapsed": true
   },
   "outputs": [],
   "source": [
    "meta = pd.read_csv(\"meta_solo_er.csv\")\n",
    "deaths = pd.read_csv(\"death_solo_er.csv\")"
   ]
  },
  {
   "cell_type": "code",
   "execution_count": 22,
   "metadata": {
    "collapsed": true
   },
   "outputs": [],
   "source": [
    "death_by_players = deaths.dropna()"
   ]
  },
  {
   "cell_type": "code",
   "execution_count": 23,
   "metadata": {},
   "outputs": [
    {
     "data": {
      "text/html": [
       "<div>\n",
       "<style>\n",
       "    .dataframe thead tr:only-child th {\n",
       "        text-align: right;\n",
       "    }\n",
       "\n",
       "    .dataframe thead th {\n",
       "        text-align: left;\n",
       "    }\n",
       "\n",
       "    .dataframe tbody tr th {\n",
       "        vertical-align: top;\n",
       "    }\n",
       "</style>\n",
       "<table border=\"1\" class=\"dataframe\">\n",
       "  <thead>\n",
       "    <tr style=\"text-align: right;\">\n",
       "      <th></th>\n",
       "      <th>killed_by</th>\n",
       "      <th>killer_name</th>\n",
       "      <th>killer_placement</th>\n",
       "      <th>killer_position_x</th>\n",
       "      <th>killer_position_y</th>\n",
       "      <th>map</th>\n",
       "      <th>match_id</th>\n",
       "      <th>time</th>\n",
       "      <th>victim_name</th>\n",
       "      <th>victim_placement</th>\n",
       "      <th>victim_position_x</th>\n",
       "      <th>victim_position_y</th>\n",
       "    </tr>\n",
       "  </thead>\n",
       "  <tbody>\n",
       "    <tr>\n",
       "      <th>0</th>\n",
       "      <td>P92</td>\n",
       "      <td>Adlerx</td>\n",
       "      <td>51.0</td>\n",
       "      <td>391919.3</td>\n",
       "      <td>235406.2</td>\n",
       "      <td>ERANGEL</td>\n",
       "      <td>2U4GBNA0YmlixJ6lhgS6xB2tqdo7SEhoYyHlVu18akkAzL...</td>\n",
       "      <td>425</td>\n",
       "      <td>Sventy21</td>\n",
       "      <td>59.0</td>\n",
       "      <td>392289.6</td>\n",
       "      <td>235706.1</td>\n",
       "    </tr>\n",
       "    <tr>\n",
       "      <th>1</th>\n",
       "      <td>AKM</td>\n",
       "      <td>CocaCola01</td>\n",
       "      <td>4.0</td>\n",
       "      <td>347226.7</td>\n",
       "      <td>142356.4</td>\n",
       "      <td>ERANGEL</td>\n",
       "      <td>2U4GBNA0YmlixJ6lhgS6xB2tqdo7SEhoYyHlVu18akkAzL...</td>\n",
       "      <td>1477</td>\n",
       "      <td>PNW_Franco17</td>\n",
       "      <td>9.0</td>\n",
       "      <td>345692.8</td>\n",
       "      <td>141435.4</td>\n",
       "    </tr>\n",
       "    <tr>\n",
       "      <th>2</th>\n",
       "      <td>P18C</td>\n",
       "      <td>jprodigy</td>\n",
       "      <td>85.0</td>\n",
       "      <td>421634.0</td>\n",
       "      <td>324678.9</td>\n",
       "      <td>ERANGEL</td>\n",
       "      <td>2U4GBNA0YmlixJ6lhgS6xB2tqdo7SEhoYyHlVu18akkAzL...</td>\n",
       "      <td>126</td>\n",
       "      <td>Eagyl</td>\n",
       "      <td>86.0</td>\n",
       "      <td>421077.3</td>\n",
       "      <td>324661.9</td>\n",
       "    </tr>\n",
       "    <tr>\n",
       "      <th>4</th>\n",
       "      <td>UMP9</td>\n",
       "      <td>MLBBear</td>\n",
       "      <td>30.0</td>\n",
       "      <td>420148.7</td>\n",
       "      <td>324679.9</td>\n",
       "      <td>ERANGEL</td>\n",
       "      <td>2U4GBNA0YmlixJ6lhgS6xB2tqdo7SEhoYyHlVu18akkAzL...</td>\n",
       "      <td>263</td>\n",
       "      <td>Hastela</td>\n",
       "      <td>71.0</td>\n",
       "      <td>420297.3</td>\n",
       "      <td>326671.7</td>\n",
       "    </tr>\n",
       "    <tr>\n",
       "      <th>5</th>\n",
       "      <td>S686</td>\n",
       "      <td>JackieCOC</td>\n",
       "      <td>5.0</td>\n",
       "      <td>350512.6</td>\n",
       "      <td>403584.0</td>\n",
       "      <td>ERANGEL</td>\n",
       "      <td>2U4GBNA0YmlixJ6lhgS6xB2tqdo7SEhoYyHlVu18akkAzL...</td>\n",
       "      <td>187</td>\n",
       "      <td>Satch</td>\n",
       "      <td>79.0</td>\n",
       "      <td>350609.2</td>\n",
       "      <td>403244.2</td>\n",
       "    </tr>\n",
       "  </tbody>\n",
       "</table>\n",
       "</div>"
      ],
      "text/plain": [
       "  killed_by killer_name  killer_placement  killer_position_x  \\\n",
       "0       P92      Adlerx              51.0           391919.3   \n",
       "1       AKM  CocaCola01               4.0           347226.7   \n",
       "2      P18C    jprodigy              85.0           421634.0   \n",
       "4      UMP9     MLBBear              30.0           420148.7   \n",
       "5      S686   JackieCOC               5.0           350512.6   \n",
       "\n",
       "   killer_position_y      map  \\\n",
       "0           235406.2  ERANGEL   \n",
       "1           142356.4  ERANGEL   \n",
       "2           324678.9  ERANGEL   \n",
       "4           324679.9  ERANGEL   \n",
       "5           403584.0  ERANGEL   \n",
       "\n",
       "                                            match_id  time   victim_name  \\\n",
       "0  2U4GBNA0YmlixJ6lhgS6xB2tqdo7SEhoYyHlVu18akkAzL...   425      Sventy21   \n",
       "1  2U4GBNA0YmlixJ6lhgS6xB2tqdo7SEhoYyHlVu18akkAzL...  1477  PNW_Franco17   \n",
       "2  2U4GBNA0YmlixJ6lhgS6xB2tqdo7SEhoYyHlVu18akkAzL...   126         Eagyl   \n",
       "4  2U4GBNA0YmlixJ6lhgS6xB2tqdo7SEhoYyHlVu18akkAzL...   263       Hastela   \n",
       "5  2U4GBNA0YmlixJ6lhgS6xB2tqdo7SEhoYyHlVu18akkAzL...   187         Satch   \n",
       "\n",
       "   victim_placement  victim_position_x  victim_position_y  \n",
       "0              59.0           392289.6           235706.1  \n",
       "1               9.0           345692.8           141435.4  \n",
       "2              86.0           421077.3           324661.9  \n",
       "4              71.0           420297.3           326671.7  \n",
       "5              79.0           350609.2           403244.2  "
      ]
     },
     "execution_count": 23,
     "metadata": {},
     "output_type": "execute_result"
    }
   ],
   "source": [
    "death_by_players.head()"
   ]
  },
  {
   "cell_type": "code",
   "execution_count": 24,
   "metadata": {
    "collapsed": true
   },
   "outputs": [],
   "source": [
    "n = 10000\n",
    "y = death_by_players['time'].sample(n)"
   ]
  },
  {
   "cell_type": "code",
   "execution_count": 35,
   "metadata": {},
   "outputs": [
    {
     "data": {
      "image/png": "[encoded data removed]",
      "text/plain": [
       "<matplotlib.figure.Figure at 0x1b1736f2b38>"
      ]
     },
     "metadata": {},
     "output_type": "display_data"
    }
   ],
   "source": [
    "plt.figure(figsize=(16,8))\n",
    "plt.hist(y,'auto')\n",
    "plt.title('Kill Count vs Survival Time')\n",
    "plt.ylabel('Kill Count')\n",
    "plt.xlabel('Surviial Time')\n",
    "plt.show()"
   ]
  },
  {
   "cell_type": "code",
   "execution_count": 7,
   "metadata": {},
   "outputs": [
    {
     "data": {
      "text/plain": [
       "array(['P92', 'AKM', 'P18C', 'UMP9', 'S686', 'Kar98k', 'M16A4', 'Punch',\n",
       "       'M416', 'Micro UZI', 'SCAR-L', 'SKS', 'Falling', 'S1897', 'Mini 14',\n",
       "       'Hit by Car', 'P1911', 'R1895', 'Grenade', 'S12K', 'AWM',\n",
       "       'Tommy Gun', 'Crossbow', 'Pan', 'VSS', 'M24', 'Motorbike (SideCar)',\n",
       "       'Vector', 'Mk14', 'death.Buff_FireDOT_C', 'Crowbar', 'Groza',\n",
       "       'M249', 'Uaz', 'Sickle', 'DP-28', 'death.ProjMolotov_DamageField_C',\n",
       "       'Motorbike', 'Buggy', 'Dacia', 'AUG', 'Boat', 'Machete',\n",
       "       'death.ProjMolotov_C', 'Aquarail'], dtype=object)"
      ]
     },
     "execution_count": 7,
     "metadata": {},
     "output_type": "execute_result"
    }
   ],
   "source": [
    "death_by_players['killed_by'].unique()"
   ]
  },
  {
   "cell_type": "code",
   "execution_count": 8,
   "metadata": {},
   "outputs": [
    {
     "data": {
      "text/html": [
       "<div>\n",
       "<style>\n",
       "    .dataframe thead tr:only-child th {\n",
       "        text-align: right;\n",
       "    }\n",
       "\n",
       "    .dataframe thead th {\n",
       "        text-align: left;\n",
       "    }\n",
       "\n",
       "    .dataframe tbody tr th {\n",
       "        vertical-align: top;\n",
       "    }\n",
       "</style>\n",
       "<table border=\"1\" class=\"dataframe\">\n",
       "  <thead>\n",
       "    <tr style=\"text-align: right;\">\n",
       "      <th></th>\n",
       "      <th>date</th>\n",
       "      <th>game_size</th>\n",
       "      <th>match_id</th>\n",
       "      <th>match_mode</th>\n",
       "      <th>party_size</th>\n",
       "      <th>player_assists</th>\n",
       "      <th>player_dbno</th>\n",
       "      <th>player_dist_ride</th>\n",
       "      <th>player_dist_walk</th>\n",
       "      <th>player_dmg</th>\n",
       "      <th>player_kills</th>\n",
       "      <th>player_name</th>\n",
       "      <th>player_survive_time</th>\n",
       "      <th>team_id</th>\n",
       "      <th>team_placement</th>\n",
       "    </tr>\n",
       "  </thead>\n",
       "  <tbody>\n",
       "    <tr>\n",
       "      <th>0</th>\n",
       "      <td>2017-11-19T08:28:59+0000</td>\n",
       "      <td>91</td>\n",
       "      <td>2U4GBNA0YmlixJ6lhgS6xB2tqdo7SEhoYyHlVu18akkAzL...</td>\n",
       "      <td>tpp</td>\n",
       "      <td>1</td>\n",
       "      <td>0</td>\n",
       "      <td>0</td>\n",
       "      <td>0.000000</td>\n",
       "      <td>170.954788</td>\n",
       "      <td>0</td>\n",
       "      <td>0</td>\n",
       "      <td>Satch</td>\n",
       "      <td>186.999</td>\n",
       "      <td>100004</td>\n",
       "      <td>79</td>\n",
       "    </tr>\n",
       "    <tr>\n",
       "      <th>1</th>\n",
       "      <td>2017-11-19T08:28:59+0000</td>\n",
       "      <td>91</td>\n",
       "      <td>2U4GBNA0YmlixJ6lhgS6xB2tqdo7SEhoYyHlVu18akkAzL...</td>\n",
       "      <td>tpp</td>\n",
       "      <td>1</td>\n",
       "      <td>0</td>\n",
       "      <td>0</td>\n",
       "      <td>0.000000</td>\n",
       "      <td>66.545590</td>\n",
       "      <td>0</td>\n",
       "      <td>0</td>\n",
       "      <td>osamabinlaggon</td>\n",
       "      <td>124.782</td>\n",
       "      <td>100005</td>\n",
       "      <td>87</td>\n",
       "    </tr>\n",
       "    <tr>\n",
       "      <th>2</th>\n",
       "      <td>2017-11-19T08:28:59+0000</td>\n",
       "      <td>91</td>\n",
       "      <td>2U4GBNA0YmlixJ6lhgS6xB2tqdo7SEhoYyHlVu18akkAzL...</td>\n",
       "      <td>tpp</td>\n",
       "      <td>1</td>\n",
       "      <td>0</td>\n",
       "      <td>0</td>\n",
       "      <td>728.722656</td>\n",
       "      <td>610.168945</td>\n",
       "      <td>124</td>\n",
       "      <td>0</td>\n",
       "      <td>dengboyu76</td>\n",
       "      <td>839.161</td>\n",
       "      <td>100006</td>\n",
       "      <td>35</td>\n",
       "    </tr>\n",
       "    <tr>\n",
       "      <th>3</th>\n",
       "      <td>2017-11-19T08:28:59+0000</td>\n",
       "      <td>91</td>\n",
       "      <td>2U4GBNA0YmlixJ6lhgS6xB2tqdo7SEhoYyHlVu18akkAzL...</td>\n",
       "      <td>tpp</td>\n",
       "      <td>1</td>\n",
       "      <td>0</td>\n",
       "      <td>0</td>\n",
       "      <td>2646.184000</td>\n",
       "      <td>1431.292000</td>\n",
       "      <td>24</td>\n",
       "      <td>0</td>\n",
       "      <td>GOGingmimi</td>\n",
       "      <td>751.716</td>\n",
       "      <td>100007</td>\n",
       "      <td>46</td>\n",
       "    </tr>\n",
       "    <tr>\n",
       "      <th>4</th>\n",
       "      <td>2017-11-19T08:28:59+0000</td>\n",
       "      <td>91</td>\n",
       "      <td>2U4GBNA0YmlixJ6lhgS6xB2tqdo7SEhoYyHlVu18akkAzL...</td>\n",
       "      <td>tpp</td>\n",
       "      <td>1</td>\n",
       "      <td>0</td>\n",
       "      <td>0</td>\n",
       "      <td>0.000000</td>\n",
       "      <td>723.102300</td>\n",
       "      <td>100</td>\n",
       "      <td>1</td>\n",
       "      <td>AtomicBrunette</td>\n",
       "      <td>744.088</td>\n",
       "      <td>100011</td>\n",
       "      <td>47</td>\n",
       "    </tr>\n",
       "  </tbody>\n",
       "</table>\n",
       "</div>"
      ],
      "text/plain": [
       "                       date  game_size  \\\n",
       "0  2017-11-19T08:28:59+0000         91   \n",
       "1  2017-11-19T08:28:59+0000         91   \n",
       "2  2017-11-19T08:28:59+0000         91   \n",
       "3  2017-11-19T08:28:59+0000         91   \n",
       "4  2017-11-19T08:28:59+0000         91   \n",
       "\n",
       "                                            match_id match_mode  party_size  \\\n",
       "0  2U4GBNA0YmlixJ6lhgS6xB2tqdo7SEhoYyHlVu18akkAzL...        tpp           1   \n",
       "1  2U4GBNA0YmlixJ6lhgS6xB2tqdo7SEhoYyHlVu18akkAzL...        tpp           1   \n",
       "2  2U4GBNA0YmlixJ6lhgS6xB2tqdo7SEhoYyHlVu18akkAzL...        tpp           1   \n",
       "3  2U4GBNA0YmlixJ6lhgS6xB2tqdo7SEhoYyHlVu18akkAzL...        tpp           1   \n",
       "4  2U4GBNA0YmlixJ6lhgS6xB2tqdo7SEhoYyHlVu18akkAzL...        tpp           1   \n",
       "\n",
       "   player_assists  player_dbno  player_dist_ride  player_dist_walk  \\\n",
       "0               0            0          0.000000        170.954788   \n",
       "1               0            0          0.000000         66.545590   \n",
       "2               0            0        728.722656        610.168945   \n",
       "3               0            0       2646.184000       1431.292000   \n",
       "4               0            0          0.000000        723.102300   \n",
       "\n",
       "   player_dmg  player_kills     player_name  player_survive_time  team_id  \\\n",
       "0           0             0           Satch              186.999   100004   \n",
       "1           0             0  osamabinlaggon              124.782   100005   \n",
       "2         124             0      dengboyu76              839.161   100006   \n",
       "3          24             0      GOGingmimi              751.716   100007   \n",
       "4         100             1  AtomicBrunette              744.088   100011   \n",
       "\n",
       "   team_placement  \n",
       "0              79  \n",
       "1              87  \n",
       "2              35  \n",
       "3              46  \n",
       "4              47  "
      ]
     },
     "execution_count": 8,
     "metadata": {},
     "output_type": "execute_result"
    }
   ],
   "source": [
    "meta.head()"
   ]
  },
  {
   "cell_type": "code",
   "execution_count": 45,
   "metadata": {},
   "outputs": [],
   "source": [
    "meta_sample = meta.sample(10000)"
   ]
  },
  {
   "cell_type": "code",
   "execution_count": 17,
   "metadata": {
    "collapsed": true
   },
   "outputs": [],
   "source": [
    "time_placement = np.vstack(meta[['player_survive_time', 'team_placement']].values)"
   ]
  },
  {
   "cell_type": "code",
   "execution_count": null,
   "metadata": {
    "collapsed": true
   },
   "outputs": [],
   "source": [
    "cmap = sns.cubehelix_palette(as_cmap=True, dark = 0, light =1, reverse = True)\n",
    "plt.figure(figsize=(16,8))\n",
    "plt.title('Survive time')\n",
    "plt.ylabel('Placement')\n",
    "plt.xlabel('Survive time')\n",
    "sns.kdeplot(time_placement[:,0], time_placement[:,1],n_levels=60,shade=True,cmap=\"Blues\")"
   ]
  },
  {
   "cell_type": "code",
   "execution_count": 46,
   "metadata": {
    "collapsed": true
   },
   "outputs": [],
   "source": [
    "kill_placement = np.vstack(meta_sample[['player_kills', 'team_placement']].values)"
   ]
  },
  {
   "cell_type": "code",
   "execution_count": 47,
   "metadata": {
    "collapsed": true
   },
   "outputs": [],
   "source": [
    "x = kill_placement[:,0]\n",
    "y = kill_placement[:,1]"
   ]
  },
  {
   "cell_type": "code",
   "execution_count": 48,
   "metadata": {},
   "outputs": [],
   "source": [
    "from scipy.stats.kde import gaussian_kde\n",
    "\n",
    "k = gaussian_kde(np.vstack([x, y]))\n",
    "xi, yi = np.mgrid[x.min():x.max():x.size**0.5*1j,y.min():y.max():y.size**0.5*1j]\n",
    "zi = k(np.vstack([xi.flatten(), yi.flatten()]))"
   ]
  },
  {
   "cell_type": "code",
   "execution_count": 64,
   "metadata": {},
   "outputs": [
    {
     "data": {
      "image/png": "[encoded data removed]",
      "text/plain": [
       "<matplotlib.figure.Figure at 0x1b171619ac8>"
      ]
     },
     "metadata": {},
     "output_type": "display_data"
    }
   ],
   "source": [
    "#cmap = sns.cubehelix_palette(light=1, as_cmap=True)\n",
    "fig = plt.figure(figsize=(6,8))\n",
    "ax1 = fig.add_subplot(211)\n",
    "#ax2 = fig.add_subplot(212)\n",
    "\n",
    "#ax1.pcolormesh(xi, yi, np.log10(zi.reshape(xi.shape)), cmap=\"Blues\")\n",
    "#ax2.contourf(xi, yi, np.log10(zi.reshape(xi.shape)), cmap=\"Blues\")\n",
    "ax1.pcolormesh(xi, yi, zi.reshape(xi.shape), cmap=\"Greens_r\")\n",
    "\n",
    "ax1.set_xlim(x.min(), 10)\n",
    "ax1.set_ylim(y.min(), y.max())\n",
    "#ax2.set_xlim(x.min(), x.max())\n",
    "#ax2.set_ylim(y.min(), y.max())\n",
    "\n",
    "ax1.set_xlabel('Player Kills')\n",
    "ax1.set_ylabel('Team Placement')\n",
    "\n",
    "#ax2.set_xlabel('Player Kills')\n",
    "#ax2.set_ylabel('Team Placement')\n",
    "plt.show()"
   ]
  },
  {
   "cell_type": "code",
   "execution_count": null,
   "metadata": {
    "collapsed": true
   },
   "outputs": [],
   "source": []
  }
 ],
 "metadata": {
  "kernelspec": {
   "display_name": "Python 3",
   "language": "python",
   "name": "python3"
  },
  "language_info": {
   "codemirror_mode": {
    "name": "ipython",
    "version": 3
   },
   "file_extension": ".py",
   "mimetype": "text/x-python",
   "name": "python",
   "nbconvert_exporter": "python",
   "pygments_lexer": "ipython3",
   "version": "3.6.3"
  }
 },
 "nbformat": 4,
 "nbformat_minor": 2
}
