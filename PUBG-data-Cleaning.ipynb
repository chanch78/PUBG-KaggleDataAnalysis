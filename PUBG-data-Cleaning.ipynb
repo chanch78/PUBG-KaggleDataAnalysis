{
 "cells": [
  {
   "cell_type": "code",
   "execution_count": 1,
   "metadata": {
    "collapsed": true
   },
   "outputs": [],
   "source": [
    "import numpy as np\n",
    "import matplotlib.pyplot as plt\n",
    "import pandas as pd\n",
    "import seaborn as sns"
   ]
  },
  {
   "cell_type": "code",
   "execution_count": 2,
   "metadata": {
    "collapsed": true
   },
   "outputs": [],
   "source": [
    "#Importing aggregate data from Kaggle to dataframe\n",
    "meta = pd.concat([pd.read_csv(\"agg_match_stats_0.csv\"),\n",
    "                 pd.read_csv(\"agg_match_stats_1.csv\"),\n",
    "                 pd.read_csv(\"agg_match_stats_2.csv\"),\n",
    "                 pd.read_csv(\"agg_match_stats_3.csv\"),\n",
    "                 pd.read_csv(\"agg_match_stats_4.csv\")], ignore_index=True)"
   ]
  },
  {
   "cell_type": "code",
   "execution_count": 3,
   "metadata": {},
   "outputs": [
    {
     "data": {
      "text/html": [
       "<div>\n",
       "<style>\n",
       "    .dataframe thead tr:only-child th {\n",
       "        text-align: right;\n",
       "    }\n",
       "\n",
       "    .dataframe thead th {\n",
       "        text-align: left;\n",
       "    }\n",
       "\n",
       "    .dataframe tbody tr th {\n",
       "        vertical-align: top;\n",
       "    }\n",
       "</style>\n",
       "<table border=\"1\" class=\"dataframe\">\n",
       "  <thead>\n",
       "    <tr style=\"text-align: right;\">\n",
       "      <th></th>\n",
       "      <th>date</th>\n",
       "      <th>game_size</th>\n",
       "      <th>match_id</th>\n",
       "      <th>match_mode</th>\n",
       "      <th>party_size</th>\n",
       "      <th>player_assists</th>\n",
       "      <th>player_dbno</th>\n",
       "      <th>player_dist_ride</th>\n",
       "      <th>player_dist_walk</th>\n",
       "      <th>player_dmg</th>\n",
       "      <th>player_kills</th>\n",
       "      <th>player_name</th>\n",
       "      <th>player_survive_time</th>\n",
       "      <th>team_id</th>\n",
       "      <th>team_placement</th>\n",
       "    </tr>\n",
       "  </thead>\n",
       "  <tbody>\n",
       "    <tr>\n",
       "      <th>0</th>\n",
       "      <td>2017-11-26T20:59:40+0000</td>\n",
       "      <td>37</td>\n",
       "      <td>2U4GBNA0YmnNZYkzjkfgN4ev-hXSrak_BSey_YEG6kIuDG...</td>\n",
       "      <td>tpp</td>\n",
       "      <td>2</td>\n",
       "      <td>0</td>\n",
       "      <td>1</td>\n",
       "      <td>2870.72400</td>\n",
       "      <td>1784.847780</td>\n",
       "      <td>117</td>\n",
       "      <td>1</td>\n",
       "      <td>SnuffIes</td>\n",
       "      <td>1106.320</td>\n",
       "      <td>4</td>\n",
       "      <td>18</td>\n",
       "    </tr>\n",
       "    <tr>\n",
       "      <th>1</th>\n",
       "      <td>2017-11-26T20:59:40+0000</td>\n",
       "      <td>37</td>\n",
       "      <td>2U4GBNA0YmnNZYkzjkfgN4ev-hXSrak_BSey_YEG6kIuDG...</td>\n",
       "      <td>tpp</td>\n",
       "      <td>2</td>\n",
       "      <td>0</td>\n",
       "      <td>1</td>\n",
       "      <td>2938.40723</td>\n",
       "      <td>1756.079710</td>\n",
       "      <td>127</td>\n",
       "      <td>1</td>\n",
       "      <td>Ozon3r</td>\n",
       "      <td>1106.315</td>\n",
       "      <td>4</td>\n",
       "      <td>18</td>\n",
       "    </tr>\n",
       "    <tr>\n",
       "      <th>2</th>\n",
       "      <td>2017-11-26T20:59:40+0000</td>\n",
       "      <td>37</td>\n",
       "      <td>2U4GBNA0YmnNZYkzjkfgN4ev-hXSrak_BSey_YEG6kIuDG...</td>\n",
       "      <td>tpp</td>\n",
       "      <td>2</td>\n",
       "      <td>0</td>\n",
       "      <td>0</td>\n",
       "      <td>0.00000</td>\n",
       "      <td>224.157562</td>\n",
       "      <td>67</td>\n",
       "      <td>0</td>\n",
       "      <td>bovize</td>\n",
       "      <td>235.558</td>\n",
       "      <td>5</td>\n",
       "      <td>33</td>\n",
       "    </tr>\n",
       "    <tr>\n",
       "      <th>3</th>\n",
       "      <td>2017-11-26T20:59:40+0000</td>\n",
       "      <td>37</td>\n",
       "      <td>2U4GBNA0YmnNZYkzjkfgN4ev-hXSrak_BSey_YEG6kIuDG...</td>\n",
       "      <td>tpp</td>\n",
       "      <td>2</td>\n",
       "      <td>0</td>\n",
       "      <td>0</td>\n",
       "      <td>0.00000</td>\n",
       "      <td>92.935150</td>\n",
       "      <td>0</td>\n",
       "      <td>0</td>\n",
       "      <td>sbahn87</td>\n",
       "      <td>197.553</td>\n",
       "      <td>5</td>\n",
       "      <td>33</td>\n",
       "    </tr>\n",
       "    <tr>\n",
       "      <th>4</th>\n",
       "      <td>2017-11-26T20:59:40+0000</td>\n",
       "      <td>37</td>\n",
       "      <td>2U4GBNA0YmnNZYkzjkfgN4ev-hXSrak_BSey_YEG6kIuDG...</td>\n",
       "      <td>tpp</td>\n",
       "      <td>2</td>\n",
       "      <td>0</td>\n",
       "      <td>0</td>\n",
       "      <td>2619.07739</td>\n",
       "      <td>2510.447000</td>\n",
       "      <td>175</td>\n",
       "      <td>2</td>\n",
       "      <td>GeminiZZZ</td>\n",
       "      <td>1537.495</td>\n",
       "      <td>14</td>\n",
       "      <td>11</td>\n",
       "    </tr>\n",
       "  </tbody>\n",
       "</table>\n",
       "</div>"
      ],
      "text/plain": [
       "                       date  game_size  \\\n",
       "0  2017-11-26T20:59:40+0000         37   \n",
       "1  2017-11-26T20:59:40+0000         37   \n",
       "2  2017-11-26T20:59:40+0000         37   \n",
       "3  2017-11-26T20:59:40+0000         37   \n",
       "4  2017-11-26T20:59:40+0000         37   \n",
       "\n",
       "                                            match_id match_mode  party_size  \\\n",
       "0  2U4GBNA0YmnNZYkzjkfgN4ev-hXSrak_BSey_YEG6kIuDG...        tpp           2   \n",
       "1  2U4GBNA0YmnNZYkzjkfgN4ev-hXSrak_BSey_YEG6kIuDG...        tpp           2   \n",
       "2  2U4GBNA0YmnNZYkzjkfgN4ev-hXSrak_BSey_YEG6kIuDG...        tpp           2   \n",
       "3  2U4GBNA0YmnNZYkzjkfgN4ev-hXSrak_BSey_YEG6kIuDG...        tpp           2   \n",
       "4  2U4GBNA0YmnNZYkzjkfgN4ev-hXSrak_BSey_YEG6kIuDG...        tpp           2   \n",
       "\n",
       "   player_assists  player_dbno  player_dist_ride  player_dist_walk  \\\n",
       "0               0            1        2870.72400       1784.847780   \n",
       "1               0            1        2938.40723       1756.079710   \n",
       "2               0            0           0.00000        224.157562   \n",
       "3               0            0           0.00000         92.935150   \n",
       "4               0            0        2619.07739       2510.447000   \n",
       "\n",
       "   player_dmg  player_kills player_name  player_survive_time  team_id  \\\n",
       "0         117             1    SnuffIes             1106.320        4   \n",
       "1         127             1      Ozon3r             1106.315        4   \n",
       "2          67             0      bovize              235.558        5   \n",
       "3           0             0     sbahn87              197.553        5   \n",
       "4         175             2   GeminiZZZ             1537.495       14   \n",
       "\n",
       "   team_placement  \n",
       "0              18  \n",
       "1              18  \n",
       "2              33  \n",
       "3              33  \n",
       "4              11  "
      ]
     },
     "execution_count": 3,
     "metadata": {},
     "output_type": "execute_result"
    }
   ],
   "source": [
    "meta.head()"
   ]
  },
  {
   "cell_type": "code",
   "execution_count": 5,
   "metadata": {},
   "outputs": [
    {
     "data": {
      "text/plain": [
       "(67369231, 15)"
      ]
     },
     "execution_count": 5,
     "metadata": {},
     "output_type": "execute_result"
    }
   ],
   "source": [
    "meta.shape"
   ]
  },
  {
   "cell_type": "code",
   "execution_count": 10,
   "metadata": {
    "collapsed": true
   },
   "outputs": [],
   "source": [
    "# Import individual death data into dataframe\n",
    "death = pd.concat([pd.read_csv(\"kill_match_stats_final_0.csv\"),\n",
    "                 pd.read_csv(\"kill_match_stats_final_1.csv\"),\n",
    "                 pd.read_csv(\"kill_match_stats_final_2.csv\"),\n",
    "                 pd.read_csv(\"kill_match_stats_final_3.csv\"),\n",
    "                 pd.read_csv(\"kill_match_stats_final_4.csv\")], ignore_index=True)"
   ]
  },
  {
   "cell_type": "code",
   "execution_count": 9,
   "metadata": {
    "collapsed": true
   },
   "outputs": [],
   "source": [
    "# Isolate unique match_id for solo, Third Person Perspective match\n",
    "match_list = meta.loc[(meta['party_size'] == 1) & (meta['match_mode'] == 'tpp'), 'match_id'].drop_duplicates()"
   ]
  },
  {
   "cell_type": "code",
   "execution_count": 12,
   "metadata": {},
   "outputs": [],
   "source": [
    "death_solo = death[death['match_id'].isin(match_list.values)]"
   ]
  },
  {
   "cell_type": "code",
   "execution_count": 14,
   "metadata": {},
   "outputs": [],
   "source": [
    "# since only kill_match_stats data files contains the information of map being played, so have to filter Map Erangel on death\n",
    "death_solo_er = death_solo[death_solo['map'] == 'ERANGEL']"
   ]
  },
  {
   "cell_type": "code",
   "execution_count": 20,
   "metadata": {},
   "outputs": [],
   "source": [
    "#Isolate unique match_id for solo, Third person Perspective match which played on Erangel map\n",
    "match_list_solo_er = death_solo_er.loc[death_solo_er['map'] == 'ERANGEL','match_id'].drop_duplicates()"
   ]
  },
  {
   "cell_type": "code",
   "execution_count": 21,
   "metadata": {},
   "outputs": [],
   "source": [
    "meta_solo_er = meta[meta['match_id'].isin(match_list_solo_er.values)]"
   ]
  },
  {
   "cell_type": "code",
   "execution_count": 23,
   "metadata": {},
   "outputs": [
    {
     "data": {
      "text/plain": [
       "(11552955, 12)"
      ]
     },
     "execution_count": 23,
     "metadata": {},
     "output_type": "execute_result"
    }
   ],
   "source": [
    "death_solo_er.shape"
   ]
  },
  {
   "cell_type": "code",
   "execution_count": 24,
   "metadata": {},
   "outputs": [
    {
     "data": {
      "text/plain": [
       "(11663739, 15)"
      ]
     },
     "execution_count": 24,
     "metadata": {},
     "output_type": "execute_result"
    }
   ],
   "source": [
    "meta_solo_er.shape"
   ]
  },
  {
   "cell_type": "code",
   "execution_count": 26,
   "metadata": {},
   "outputs": [],
   "source": [
    "# Output both filtered data into csv for the other team members to conduct EDA conveniently\n",
    "death_solo_er.to_csv('death_solo_er.csv', encoding='utf-8', index=False)"
   ]
  },
  {
   "cell_type": "code",
   "execution_count": 27,
   "metadata": {
    "collapsed": true
   },
   "outputs": [],
   "source": [
    "# Output both filtered data into csv for the other team members to conduct EDA conveniently\n",
    "meta_solo_er.to_csv('meta_solo_er.csv', encoding='utf-8', index=False)"
   ]
  }
 ],
 "metadata": {
  "kernelspec": {
   "display_name": "Python 3",
   "language": "python",
   "name": "python3"
  },
  "language_info": {
   "codemirror_mode": {
    "name": "ipython",
    "version": 3
   },
   "file_extension": ".py",
   "mimetype": "text/x-python",
   "name": "python",
   "nbconvert_exporter": "python",
   "pygments_lexer": "ipython3",
   "version": "3.6.3"
  }
 },
 "nbformat": 4,
 "nbformat_minor": 2
}
